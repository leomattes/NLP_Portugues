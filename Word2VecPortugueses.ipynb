{
 "cells": [
  {
   "cell_type": "markdown",
   "metadata": {},
   "source": [
    "# Word Embedding e Word2Vec\n",
    "\n",
    "\n",
    "1. Introdução \n",
    "Este notebook apresneta o conceito de Word Embedding e Word2Vec, demostrando como utilizar modelkos de word2vec já treinados. \n",
    "\n",
    "\n",
    "Word Embedding é uma das mais técnicas de Word2Vec mais utilizadas para Natural Languange process. A ideia principal é utilizar vetores númericos capazes de representar semanticamente as palavras em relação a sua utilização.  Desta maneita podemos ter :  casa = [0.333, 0.6777, 0.88888 ..]/   mesa = [0.13, 0.0077, 0.0058 ..]\n",
    "\n",
    "Utilizando ténicas estatísticas, a reprentação vetorial \"Embedding\" agrega significados a palavra, de maneira que palavras similares fiquem proximas uma das outras vetorialmente, A figura a exemplifica a distâcia vetoria euclidiana .\n",
    "<img src=\"https://miro.medium.com/max/697/0*XMW5mf81LSHodnTi.png\">\n",
    "\n",
    "\n",
    "Para gerar uma representação vetorial de conjunto de palavras pode-se utilizar as técnicas Skip Gram ou  Common Bag Of Words (CBOW).\n",
    "Para maiores detalhes recomendo os seguintes links :\n",
    " \n",
    " https://towardsdatascience.com/introduction-to-word-embedding-and-word2vec-652d0c2060fa\n",
    " \n",
    " https://www.youtube.com/watch?v=8rXD5-xhemo&list=PLoROMvodv4rOhcuXMZkNm7j3fVwBBY42z\n",
    "\n"
   ]
  },
  {
   "cell_type": "markdown",
   "metadata": {},
   "source": [
    "Independentemente da ténica utilizada para gerar um representação completa e consistente de um a lingua é preciso uma enormo volume da daos e processamento, felizmente já existe alguem que ja realizou tal processamento e disponiviliza a representação de forma gratuita.\n",
    "\n",
    "O  Núcleo Interinstitucional de Linguística Computacional da USP, processou diversos fontes de dados como wikioidia ebooks e dicionarios utilizando diversas tecnicas, e disponibiliza os dados em :\n",
    "http://nilc.icmc.usp.br/embeddings.\n",
    "\n",
    "Observe que são diponibilizados representações vetoriais com 50, 100 e 300. A ideia é quanto amior a dimensão mais memomoria e processamento são necessários contudo maior a representatividade da palavra.\n",
    "\n"
   ]
  },
  {
   "cell_type": "markdown",
   "metadata": {},
   "source": [
    "Vamos começãr ulizando a representação vetoria com 50 dimensões que utilizou a técnica  CBOW.\n",
    "Baixe Localmente http://143.107.183.175:22980/download.php?file=embeddings/word2vec/cbow_s50.zip e extaria o arquivo :glove_s50.txt\n",
    "\n",
    "Observe, os dados foram codificados para serem utilizados segundo a bilioteca gensim do Python 2.6, como eu utilizo python 3 em quase todos meus projetos  eu primeiramente  fiz um tarefa para converter o dados p txt.\n",
    "        \n",
    "        \n"
   ]
  },
  {
   "cell_type": "code",
   "execution_count": null,
   "metadata": {},
   "outputs": [],
   "source": [
    "# abre o flat vector, uma lista de palavras seguidas por numeros \n",
    "def openVectorDicionary(path , dim):\n",
    "    # abre um arquivo .txt contendo cada palavra considerada do Portugues seguida por coordenadas em n dimensoes densas de w2v (skipgram), no casa n=100\n",
    "    # vcs = abrir(argm_2)\n",
    "    vcs = open(path).read().lower()\n",
    "    vecs = vcs.split()\n",
    "\n",
    "    #  no padrao gensim as duas primeiras linahs contem a dimenção da array \n",
    "    vecs = vecs[2:] # 929605 50 \n",
    "    return vecs\n",
    "\n",
    "    \n",
    "TamanhoVetor = 50\n",
    "    \n",
    "    \n",
    "vector = openVectorDicionary('glove_s50.txt', TamanhoVetor)\n",
    "\n",
    "\n"
   ]
  },
  {
   "cell_type": "markdown",
   "metadata": {},
   "source": [
    "# partir do vetor cria um dicionario onde cada palavra eh associada a um vetor numerico"
   ]
  },
  {
   "cell_type": "code",
   "execution_count": 85,
   "metadata": {},
   "outputs": [
    {
     "name": "stdout",
     "output_type": "stream",
     "text": [
      "47409863\n",
      "sistema 0.057136 1.004912  ..\n",
      "tamanho 47409863 2000\n"
     ]
    }
   ],
   "source": [
    "\n",
    "\n",
    "import numpy as np\n",
    "\n",
    "# dimenssão do vetor  flat \n",
    "print (len(vector))  \n",
    "# palavra seguida de 50 float \n",
    "indice  = (TamanhoVetor +1) * 200 \n",
    "print (vector[indice], vector[indice+1], vector[indice +2], ' ..')\n",
    "\n",
    "\n",
    "\n",
    "def getWord_representation(lista, tamanho, posicao):\n",
    "    indice  = (tamanho + 1) * posicao\n",
    "    palavra =  lista[indice]\n",
    "    vec = np.zeros(tamanho)\n",
    "    for i in range(tamanho):\n",
    "        vec[i] = float(lista[indice +1 + i])\n",
    "        \n",
    "    return palavra, vec\n",
    "    \n",
    "def constroiDicionario(lista, tamanho):\n",
    "    tamanhoVectoFlat = len(vector)\n",
    "    NumeroPalavras = int(tamanhoVectoFlat /( tamanho + 1))\n",
    "    print('tamanho', tamanhoVectoFlat, NumeroPalavras)\n",
    "    dicionario =\t{}\n",
    "    for i in range(NumeroPalavras):\n",
    "        palavra, vec =  getWord_representation(lista, tamanho, i )\n",
    "        dicionario[palavra] = vec\n",
    "    \n",
    "    return dicionario\n",
    "    \n",
    "dicionario = constroiDicionario(vector , TamanhoVetor )   \n",
    "\n",
    "def exportDicionario(dicionario, path):\n",
    "    f = open(path, \"a\")\n",
    "    for x in dicionario:\n",
    "        texto = \"\\\"\" + x + \"\\\"\"\n",
    "        for v in dicionario[x]:\n",
    "            texto  = texto  + ',' + str(v)\n",
    "        f.write(texto + '\\n')\n",
    "\n",
    "exportDicionario(dicionario, 'dicionario.csv')\n",
    "\n",
    "\n"
   ]
  },
  {
   "cell_type": "markdown",
   "metadata": {},
   "source": [
    "\n",
    "# Lendo dicionario salvo \n",
    "O arquivo dic.csv contem uma representação e word2vec já salva. contendo em cada linha uma plavra e sua representação vetoria em 50 dimensões\n",
    "\n"
   ]
  },
  {
   "cell_type": "code",
   "execution_count": 91,
   "metadata": {},
   "outputs": [],
   "source": [
    "import pandas as pd\n",
    "\n",
    "\n",
    "def openDicionario(path):\n",
    "    headerc = ['nome', '1', '2', '3', '4', '5', '6', '7', '8', '9', '10', '11', '12', '13', '14', '15', '16', '17', '18', '19', '20', '21', '22', '23', '24', '25', '26', '27', '28', '29', '30', '31', '32', '33', '34', '35', '36', '37', '38', '39', '40', '41', '42', '43', '44', '45', '46', '47', '48', '49', '50']\n",
    "    dataclas = pd.read_csv( path,  names=headerc);\n",
    "    dataclas.set_index('nome',inplace=True)\n",
    "    dataclas.head(5)\n",
    "    return dataclas\n",
    "\n",
    "dicionarioL = openDicionario('dic.csv')\n",
    "\n",
    "\n",
    "\n"
   ]
  },
  {
   "cell_type": "code",
   "execution_count": 197,
   "metadata": {},
   "outputs": [],
   "source": [
    "\n",
    "\n",
    "\n",
    "def getVector(word):\n",
    "    try:\n",
    "        v = dicionarioL.loc[word]\n",
    "        vect = v.values\n",
    "        return vect\n",
    "    except:\n",
    "        if len(word) > 3:\n",
    "            print('- ' + word)\n",
    "        return []\n",
    "\n"
   ]
  },
  {
   "cell_type": "code",
   "execution_count": 196,
   "metadata": {},
   "outputs": [
    {
     "data": {
      "image/png": "[encoded data removed]",
      "text/plain": [
       "<Figure size 432x432 with 1 Axes>"
      ]
     },
     "metadata": {},
     "output_type": "display_data"
    }
   ],
   "source": [
    "\n",
    "\n",
    "def getarray(palavras):\n",
    "    npl = len(palavras)    \n",
    "    word_vectors = np.array([getVector(pl + ' ') for pl in palavras])    \n",
    "    return word_vectors  \n",
    "\n",
    "\n",
    "def impgrafico(palavras  ):\n",
    "    from sklearn.decomposition import PCA   \n",
    "    vec= getarray(palavras)\n",
    "\n",
    "    #vec = np.transpose(vec)        \n",
    "    import matplotlib.pyplot as plt\n",
    "\n",
    "\n",
    "    pca = PCA(n_components=2)\n",
    "    vectwodim = PCA(n_components=2).fit_transform(vec)\n",
    "    \n",
    "    plt.style.use('ggplot')    \n",
    "    plt.figure(figsize=(6,6))\n",
    "    plt.scatter(vectwodim[:,0], vectwodim[:,1], edgecolors='k', c='r')\n",
    "    \n",
    "    for palavra, (x,y) in zip(palavras, vectwodim):\n",
    "        plt.text(x+0.05, y+0.05, palavra)\n",
    "        \n",
    "    plt.show()    \n",
    "\n",
    "\n",
    "  \n",
    "        \n",
    "palavras = ('argentina','argentina', 'casa', 'apartamento',\n",
    "            'banaba', 'goiaba', 'abacate','chile', 'brasil', 'mesa')\n",
    "\n",
    "\n",
    "impgrafico(palavras  )\n",
    "        \n"
   ]
  },
  {
   "cell_type": "markdown",
   "metadata": {},
   "source": [
    "Observe que as frutas,  paises e objetos estão muito perto um dos outros .\n",
    "\n",
    "\n",
    "\n"
   ]
  }
 ],
 "metadata": {
  "kernelspec": {
   "display_name": "Python 3",
   "language": "python",
   "name": "python3"
  },
  "language_info": {
   "codemirror_mode": {
    "name": "ipython",
    "version": 3
   },
   "file_extension": ".py",
   "mimetype": "text/x-python",
   "name": "python",
   "nbconvert_exporter": "python",
   "pygments_lexer": "ipython3",
   "version": "3.6.7"
  }
 },
 "nbformat": 4,
 "nbformat_minor": 2
}
