{
 "cells": [
  {
   "cell_type": "markdown",
   "metadata": {},
   "source": [
    "# Word Embedding e Word2Vec\n",
    "\n",
    "\n",
    "1. Introdução \n",
    "\n",
    "Este notebook apresenta a classe Word2VecUtilPortuguese, que oferece uma serie de ferramentas para trabalghar com dicionários de word Embedding. \n",
    "\n"
   ]
  },
  {
   "cell_type": "code",
   "execution_count": 4,
   "metadata": {},
   "outputs": [
    {
     "name": "stdout",
     "output_type": "stream",
     "text": [
      "929603\n",
      "50\n"
     ]
    },
    {
     "ename": "AttributeError",
     "evalue": "'Word2VecUtilPortuguese' object has no attribute 'vecSize'",
     "output_type": "error",
     "traceback": [
      "\u001b[0;31m---------------------------------------------------------------------------\u001b[0m",
      "\u001b[0;31mAttributeError\u001b[0m                            Traceback (most recent call last)",
      "\u001b[0;32m<ipython-input-4-129a0a7f78af>\u001b[0m in \u001b[0;36m<module>\u001b[0;34m\u001b[0m\n\u001b[1;32m      5\u001b[0m \u001b[0mwordVecDicionario\u001b[0m \u001b[0;34m=\u001b[0m \u001b[0mwordvec\u001b[0m\u001b[0;34m.\u001b[0m\u001b[0mWord2VecUtilPortuguese\u001b[0m\u001b[0;34m(\u001b[0m\u001b[0;34m'dicionario_vec50.csv'\u001b[0m\u001b[0;34m)\u001b[0m\u001b[0;34m\u001b[0m\u001b[0;34m\u001b[0m\u001b[0m\n\u001b[1;32m      6\u001b[0m \u001b[0;34m\u001b[0m\u001b[0m\n\u001b[0;32m----> 7\u001b[0;31m \u001b[0mprint\u001b[0m\u001b[0;34m(\u001b[0m\u001b[0;34m'Dimensão do vetor do didionario'\u001b[0m \u001b[0;34m,\u001b[0m    \u001b[0mwordVecDicionario\u001b[0m\u001b[0;34m.\u001b[0m\u001b[0mvecSize\u001b[0m\u001b[0;34m)\u001b[0m\u001b[0;34m\u001b[0m\u001b[0;34m\u001b[0m\u001b[0m\n\u001b[0m\u001b[1;32m      8\u001b[0m \u001b[0;34m\u001b[0m\u001b[0m\n\u001b[1;32m      9\u001b[0m \u001b[0;34m\u001b[0m\u001b[0m\n",
      "\u001b[0;31mAttributeError\u001b[0m: 'Word2VecUtilPortuguese' object has no attribute 'vecSize'"
     ]
    }
   ],
   "source": [
    "import Word2VecUtilPortuguese as wordvec\n",
    "\n",
    "path = 'dicionario_vec50.csv'\n",
    "\n",
    "wordVecDicionario = wordvec.Word2VecUtilPortuguese('dicionario_vec50.csv')\n",
    "\n",
    "#print('Dimensão do vetor do didionario' ,    wordVecDicionario.vecSize) \n",
    "\n"
   ]
  },
  {
   "cell_type": "markdown",
   "metadata": {},
   "source": [
    "# Palavra to vetor \n"
   ]
  },
  {
   "cell_type": "code",
   "execution_count": 7,
   "metadata": {},
   "outputs": [
    {
     "data": {
      "text/plain": [
       "array([-8.087840e-01, -2.344940e-01,  6.837990e-01, -3.552256e+00,\n",
       "        2.660380e-01,  1.764880e-01, -8.301800e-02, -1.756600e+00,\n",
       "        5.187320e-01,  7.874550e-01, -2.560460e-01,  5.267100e-01,\n",
       "        2.626010e-01,  1.581000e-02,  4.528480e-01, -4.253290e-01,\n",
       "       -1.091950e-01, -3.496000e-02, -3.325440e-01,  1.537287e+00,\n",
       "        3.229070e-01, -6.341390e-01,  2.590570e-01, -3.703710e-01,\n",
       "       -5.205270e-01, -4.843610e-01, -6.838160e-01, -9.480820e-01,\n",
       "       -4.697990e-01,  1.852468e+00,  7.642130e-01,  2.127000e-03,\n",
       "        2.985810e-01, -8.077000e-02, -3.647550e-01,  3.420010e-01,\n",
       "        1.744480e-01, -5.170710e-01, -9.487810e-01,  8.373230e-01,\n",
       "       -2.660080e-01,  3.273090e-01,  4.745350e-01, -5.496020e-01,\n",
       "        2.931430e-01,  1.284411e+00, -6.722870e-01,  2.427270e-01,\n",
       "        9.723310e-01, -7.579990e-01])"
      ]
     },
     "execution_count": 7,
     "metadata": {},
     "output_type": "execute_result"
    }
   ],
   "source": [
    "# teste palavra to vec \n",
    "vec = wordVecDicionario.wordtodense('casa')\n",
    "len(vec)\n",
    "vec\n"
   ]
  },
  {
   "cell_type": "code",
   "execution_count": 9,
   "metadata": {},
   "outputs": [
    {
     "name": "stdout",
     "output_type": "stream",
     "text": [
      "200\n",
      "[-1.284811 -0.285557 -0.378417 -3.137972  0.438595  0.189424  0.472691\n",
      " -1.562089 -0.038006  0.170408  0.551842 -0.547622  0.503358 -0.990602\n",
      "  1.059555 -0.048566  0.428605  0.819115 -0.524653  1.565985 -0.207893\n",
      " -0.49406   0.78819   0.079241 -0.233303 -0.501848 -0.909602  0.071951\n",
      " -0.807553 -0.026257 -1.040675 -0.599016  0.009343  0.721477 -0.152197\n",
      "  0.783289  0.47535  -1.32134  -1.990357 -0.750751 -0.02458   0.596154\n",
      " -0.510651 -0.292988  0.019083 -0.242003 -1.359635 -0.309457  1.301566\n",
      " -0.196121  0.213239 -0.619529  0.215288 -4.471744 -0.310148  1.720401\n",
      "  0.204438 -1.665538 -0.345551  0.509486  0.651272  0.007636 -0.858123\n",
      " -0.359193  0.54334   1.355741 -0.128702  0.350844  0.223778  0.885597\n",
      " -0.983104 -0.227561 -0.287218 -1.309239 -0.131868 -0.538611  0.625618\n",
      " -0.435312 -0.864619  0.659892 -0.329442  0.361882 -0.754659 -1.171846\n",
      " -0.18632  -0.948027  0.627713 -0.025398 -1.260574  0.428784  0.571274\n",
      "  0.048058 -0.181947 -0.804682  0.517255 -0.556262  0.1633    0.301952\n",
      "  1.27567   0.366816 -0.896791 -0.933029  0.172109 -4.839827  0.550315\n",
      "  0.187177 -0.225299 -0.6008   -0.335084  0.71875   0.572709 -0.591387\n",
      "  0.392771  0.138562  0.224216 -0.332028  0.326385 -1.232845  0.404873\n",
      "  1.066597  0.921141  0.120547  0.229917 -1.374687 -0.178624  0.671497\n",
      "  1.074445 -0.353192 -0.514254  1.101591 -0.395287  0.281086  0.346556\n",
      " -0.429881 -0.51754  -0.424209  0.882984 -0.374556 -1.196126  0.28694\n",
      "  0.114625 -0.151498  0.088812  0.048362 -0.039576 -0.491554  0.579065\n",
      " -0.407343 -0.345218 -0.07722  -0.211388 -0.329849  1.045994 -2.517434\n",
      " -0.05799   1.229923 -0.206013 -0.369491  0.25331   0.304002  0.580227\n",
      "  0.312601  0.859801 -0.710703  1.332467 -0.979983 -0.048198 -0.129966\n",
      "  0.086075  0.235501  0.935463 -0.886847 -0.633403  0.297261  0.016756\n",
      "  0.416081 -1.050657 -0.175279 -0.036853  0.984197  0.026942 -0.829872\n",
      " -0.140679 -0.29776   0.052494  0.513353 -0.731445  0.240286 -0.677538\n",
      " -0.22402  -0.657755  0.092983  0.741815 -0.4289    0.134561 -0.398742\n",
      " -0.598357 -0.561949  0.532619 -0.933896]\n"
     ]
    }
   ],
   "source": [
    "# teste palavra to vec \n",
    "vecFrase = wordVecDicionario.textToDense(\"maria foi a feira\")\n",
    "print(len(vecFrase))\n",
    "print(vecFrase)\n",
    "\n",
    "\n",
    "\n"
   ]
  },
  {
   "cell_type": "code",
   "execution_count": null,
   "metadata": {},
   "outputs": [],
   "source": []
  },
  {
   "cell_type": "markdown",
   "metadata": {},
   "source": [
    "# Comparando lista de palavras "
   ]
  },
  {
   "cell_type": "code",
   "execution_count": 85,
   "metadata": {},
   "outputs": [
    {
     "name": "stdout",
     "output_type": "stream",
     "text": [
      "47409863\n",
      "sistema 0.057136 1.004912  ..\n",
      "tamanho 47409863 2000\n"
     ]
    }
   ],
   "source": []
  },
  {
   "cell_type": "markdown",
   "metadata": {},
   "source": [
    "\n",
    "# Lendo dicionario salvo \n",
    "O arquivo dic.csv contem uma representação e word2vec já salva. contendo em cada linha uma plavra e sua representação vetoria em 50 dimensões\n",
    "\n"
   ]
  },
  {
   "cell_type": "code",
   "execution_count": 15,
   "metadata": {},
   "outputs": [
    {
     "name": "stdout",
     "output_type": "stream",
     "text": [
      "(8, 200)\n",
      "(200,)\n"
     ]
    }
   ],
   "source": [
    "        \n",
    "frases = ('maria foi a feira',\n",
    "          'maria foi a praia',\n",
    "          'maria pegou o carro',\n",
    "          'Joana pegou o carro',\n",
    "          'João caso com maria ',\n",
    "          'este carro é rápido',\n",
    "          'este moto é ligeira',\n",
    "          'este caminhao é lento',\n",
    "          )\n",
    "        \n",
    "import numpy as np\n",
    "    \n",
    "frase_vectors = np.array([wordVecDicionario.textToDense(pl) for pl in frases]) \n",
    "\n",
    "word_vectors = wordVecDicionario.textToDense(frases[0])\n",
    "    \n",
    "\n",
    "\n",
    "print(word_vectors.shape)    \n",
    "print(frase_vectors.shape)    \n",
    "    "
   ]
  },
  {
   "cell_type": "code",
   "execution_count": 24,
   "metadata": {},
   "outputs": [],
   "source": [
    "\n",
    "import numpy as np\n",
    "\n",
    "\n",
    "def impgrafico(frases, frase_vectors  ):\n",
    "    from sklearn.decomposition import PCA   \n",
    "    \n",
    "    #vec = np.transpose(vec)        \n",
    "    import matplotlib.pyplot as plt\n",
    "\n",
    "\n",
    "    pca = PCA(n_components=2)\n",
    "    vectwodim = PCA(n_components=2).fit_transform(frase_vectors)\n",
    "    \n",
    "    plt.style.use('ggplot')    \n",
    "    plt.figure(figsize=(6,6))\n",
    "    plt.scatter(vectwodim[:,0], vectwodim[:,1], edgecolors='k', c='r')\n",
    "    \n",
    "    i =0\n",
    "    for frase, (x,y) in zip(frases, vectwodim):\n",
    "        plt.text(x+0.05, y+0.05, i)\n",
    "        i =i +1 \n",
    "        \n",
    "    i =0   \n",
    "    for frase in frases:\n",
    "        print(i, frase ) \n",
    "        i = i +1     \n",
    "        \n",
    "        \n",
    "    plt.show()    \n"
   ]
  },
  {
   "cell_type": "code",
   "execution_count": 28,
   "metadata": {},
   "outputs": [
    {
     "name": "stdout",
     "output_type": "stream",
     "text": [
      "0 maria foi a praia\n",
      "1 Joana conheceu o mar\n",
      "2 menina viajou para belem\n",
      "3 menino conheceu o mar\n",
      "4 que garoto mais feio\n",
      "5 este carro é rápido\n",
      "6 este moto é ligeira\n",
      "7 este caminhao é lento\n",
      "8 aquele patinete é ágil\n",
      "9 brasil pais do carnaval\n",
      "10 argentina pais do churrasco\n"
     ]
    },
    {
     "data": {
      "image/png": "[encoded data removed]",
      "text/plain": [
       "<Figure size 432x432 with 1 Axes>"
      ]
     },
     "metadata": {},
     "output_type": "display_data"
    }
   ],
   "source": [
    "        \n",
    "frases = ('maria foi a praia',\n",
    "          'Joana conheceu o mar',\n",
    "          'menina viajou para belem',\n",
    "          'menino conheceu o mar',\n",
    "          'que garoto mais feio',\n",
    "          'este carro é rápido',\n",
    "          'este moto é ligeira',\n",
    "          'este caminhao é lento',\n",
    "          'aquele patinete é ágil',\n",
    "          'brasil pais do carnaval',\n",
    "          'argentina pais do churrasco'\n",
    "          \n",
    "          )\n",
    "        \n",
    "import numpy as np\n",
    "frase_vectors = np.array([wordVecDicionario.textToDense(pl) for pl in frases]) \n",
    "word_vectors = wordVecDicionario.textToDense(frases[0])\n",
    "impgrafico(frases , frase_vectors  )    \n",
    "    \n",
    "\n",
    "\n"
   ]
  },
  {
   "cell_type": "code",
   "execution_count": null,
   "metadata": {},
   "outputs": [],
   "source": [
    "\n",
    "\n",
    "\n"
   ]
  },
  {
   "cell_type": "code",
   "execution_count": null,
   "metadata": {},
   "outputs": [],
   "source": []
  },
  {
   "cell_type": "code",
   "execution_count": null,
   "metadata": {},
   "outputs": [],
   "source": []
  },
  {
   "cell_type": "markdown",
   "metadata": {},
   "source": [
    "Observe que as frutas,  paises e objetos estão muito perto um dos outros .\n",
    "\n",
    "\n",
    "\n"
   ]
  }
 ],
 "metadata": {
  "kernelspec": {
   "display_name": "Python 3",
   "language": "python",
   "name": "python3"
  },
  "language_info": {
   "codemirror_mode": {
    "name": "ipython",
    "version": 3
   },
   "file_extension": ".py",
   "mimetype": "text/x-python",
   "name": "python",
   "nbconvert_exporter": "python",
   "pygments_lexer": "ipython3",
   "version": "3.6.7"
  }
 },
 "nbformat": 4,
 "nbformat_minor": 2
}
