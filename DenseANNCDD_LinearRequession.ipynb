{
 "cells": [
  {
   "cell_type": "markdown",
   "metadata": {},
   "source": [
    "# Este notebook utiliza uma dense neoron network to classify books \n",
    "\n",
    "\n",
    "Este notebook utiliza o data set produzido no notebook \"Phrase2VecPortuguese\" para classificar livros a partir de seus dados bibliogŕaficos. O dataset foi gerado a partir da coleta de dados de diverssas bibliotecas e contém como label o número CDD e a descrição biblografica previamente vetorizada. \n",
    "\n",
    "Utilizando tensorflow para cria um rede neural densa o modelo criado tem como objetivo a partir dos dados bibligraficos calcular o primeiro nível do CDD 000 - 90.  A pesar do método de regreção ninear talves não seja  o método pois o CDD não se trata de uma escala numérica (ver descrição abixo), sua utlização pode trazer bons resultados. \n",
    "\n",
    "\n",
    "\n",
    "\n",
    "## Classificação CDD \n",
    "\n",
    "A Classificação Decimal de Dewey (em inglês: Dewey Decimal Classification; DDC ou CDD) é um sistema de classificação documentária desenvolvido pelo bibliotecário americano Melvil Dewey (1851–1931).\n",
    "a Classificação CDD é amplamente utilizada em bibliotecas e seu proposito é reunir e organizar para para o docuemnto ser \"achavel\". \n",
    "https://pt.wikipedia.org/wiki/Classifica%C3%A7%C3%A3o_decimal_de_Dewey\n",
    "\n",
    "A CDD trabalha em de forma hierarquica, onde se pode aprofudar a classificação seguinto temas e sub temas, sendo o primeito nível apresenftado seguir: \n",
    "000 Generalidades\n",
    "100 Filosofia\n",
    "200 Religião\n",
    "300 Ciências sociais\n",
    "400 Línguas\n",
    "500 Ciências puras\n",
    "600 Ciências aplicadas\n",
    "700 Artes\n",
    "800 Literatura\n",
    "900 História e geografia\n",
    "\n",
    "Para realizar um software capaz de prever a CDD de um livro com base no titulo, autor e assunto. Por meio de Spiders nos juntamso em um dataset contendo a descrição dos livros e sua respectiva classificação nas base da dados da rede de bibliotecca de sâo paulo : http://bibliotecacircula.prefeitura.sp.gov.br/pesquisa/ ' na bibloteca Nacional   http://acervo.bn.br/sophia_web/index.html. \n",
    "\n"
   ]
  },
  {
   "cell_type": "markdown",
   "metadata": {},
   "source": [
    "# Primeiro passo - Carregar o dataset contendo cdd, descrição bibliografica veorizada\n"
   ]
  },
  {
   "cell_type": "code",
   "execution_count": 1,
   "metadata": {},
   "outputs": [
    {
     "name": "stdout",
     "output_type": "stream",
     "text": [
      "Dataset Size X vector size  45962 x  10000\n"
     ]
    }
   ],
   "source": [
    "import pandas as pd\n",
    "import tensorflow as tf\n",
    "\n",
    "pathclas = '/home/desenvolvimento/python/dataset/producao/classificacaioVector_v.csv'\n",
    "dataclas = pd.read_csv( pathclas);\n",
    "\n",
    "\n",
    "import numpy as np\n",
    "\n",
    "\n",
    "def getArrayFrom( strteste, fixedsize ):\n",
    "    original = np.fromstring(strteste, dtype=float, sep=' ')\n",
    "    size = len(original)\n",
    "    if size < fixedsize:\n",
    "        zeros= np.zeros(fixedsize- size) \n",
    "        original = np.concatenate((original, zeros), axis=0)\n",
    "        \n",
    "    elif size > fixedsize:\n",
    "        original = original[0:fixedsize]\n",
    "        \n",
    "        \n",
    "    return original    \n",
    "dataclas.shape  # DataFrame (45962, 2) | numpy.int64 str  \n",
    "matrixSize = 200 * 50 # 220 words with 50 dimentions  \n",
    "sizedataset= len(dataclas)\n",
    "\n",
    "print('Dataset Size X vector size ' , sizedataset, 'x ',  matrixSize)\n",
    "\n",
    "labels = np.zeros(sizedataset)\n",
    "wordvects = np.zeros((sizedataset, matrixSize), dtype=float) \n",
    "\n",
    "\n",
    "#for i in range(sizedataset):\n",
    "for i in range(sizedataset):    \n",
    "    label =dataclas.iloc[i][0]\n",
    "    wordvec =dataclas.iloc[i][1]\n",
    "    if label < 1000:\n",
    "        labels[i] =label /100\n",
    "        vecttemp =  getArrayFrom(wordvec, matrixSize )\n",
    "        wordvects[i]= vecttemp\n",
    "        \n",
    "        \n",
    "def getbachTrain(size):\n",
    "    index = np.random.choice(sizedataset, size)\n",
    "    xbach = wordvec[index]\n",
    "    ybach = labels[index]\n",
    "    return xbach, ybach \n",
    "\n",
    "\n",
    "\n"
   ]
  },
  {
   "cell_type": "code",
   "execution_count": 17,
   "metadata": {},
   "outputs": [
    {
     "name": "stdout",
     "output_type": "stream",
     "text": [
      "(5, 10000)\n",
      "(5,)\n",
      "[9.37 2.7  0.01 3.41 5.35]\n"
     ]
    }
   ],
   "source": [
    "sizedataset = len(labels)  \n",
    "\n",
    "def getbachTrain(size):\n",
    "    index = np.random.choice(sizedataset, size)\n",
    "    xbach = wordvects[index]\n",
    "    ybach = labels[index]\n",
    "    return xbach, ybach \n",
    "\n",
    "xbach, ybach  = getbachTrain(5)\n",
    "print (xbach.shape)\n",
    "print (ybach.shape)\n",
    "print (ybach)\n",
    "\n",
    "\n",
    "\n"
   ]
  },
  {
   "cell_type": "markdown",
   "metadata": {},
   "source": [
    "\n"
   ]
  },
  {
   "cell_type": "code",
   "execution_count": 3,
   "metadata": {},
   "outputs": [
    {
     "name": "stdout",
     "output_type": "stream",
     "text": [
      "45962\n",
      "Distribuição das classificações do nosso dataset\n"
     ]
    },
    {
     "data": {
      "image/png": "[encoded data removed]",
      "text/plain": [
       "<Figure size 432x288 with 1 Axes>"
      ]
     },
     "metadata": {
      "needs_background": "light"
     },
     "output_type": "display_data"
    }
   ],
   "source": [
    "# filtra as classificacoes erradas \n",
    "\n",
    "\n",
    "\n",
    "\n",
    "print(sizedataset)\n",
    "\n",
    "print('Distribuição das classificações do nosso dataset' )\n",
    "\n",
    "\n",
    "\n",
    "import matplotlib.pyplot as plt\n",
    "plt.hist(labels)\n",
    "plt.show()\n",
    "\n",
    "\n",
    "\n",
    "\n"
   ]
  },
  {
   "cell_type": "markdown",
   "metadata": {},
   "source": [
    "Arquiterura da solução  \n",
    "    1. Input\n",
    "    2. Hiden layer com duas camadas (w1 e w2)\n",
    "    3. Camada fincal WF\n",
    "    4. Função custo distância vetorial  \n",
    "    \n",
    "\n",
    "\n",
    "<img src=\"https://res.cloudinary.com/dyd911kmh/image/upload/f_auto,q_auto:best/v1547672259/3_qwv5gr.png\">\n",
    "\n",
    "\n",
    "\n",
    "\n",
    "\n"
   ]
  },
  {
   "cell_type": "code",
   "execution_count": 9,
   "metadata": {},
   "outputs": [
    {
     "name": "stdout",
     "output_type": "stream",
     "text": [
      "45962\n"
     ]
    }
   ],
   "source": [
    "# meta parametros para nossa rede neural \n",
    "\n",
    "\n",
    "optimizerrate = 0.01\n",
    "\n",
    "\n",
    "# Network Parameters\n",
    "num_input = 10000 # MNIST data input (img shape: 28*28)\n",
    "matrixSize = 10000\n",
    "n_hidden_1 = 2000 # 2000 1st layer number of neurons\n",
    "n_hidden_2 = 200 # 100  layer number of neurons\n",
    "num_classes = 1 # regreção lineas \n",
    "print(sizedataset)\n"
   ]
  },
  {
   "cell_type": "code",
   "execution_count": null,
   "metadata": {},
   "outputs": [],
   "source": [
    "\n",
    "\n"
   ]
  },
  {
   "cell_type": "code",
   "execution_count": 18,
   "metadata": {},
   "outputs": [
    {
     "name": "stdout",
     "output_type": "stream",
     "text": [
      "<tf.Variable 'w2_1:0' shape=(200, 2000) dtype=float32_ref>\n",
      "<tf.Variable 'b2_1:0' shape=(200, 1) dtype=float32_ref>\n",
      "Tensor(\"y2_1:0\", shape=(200, ?), dtype=float32)\n"
     ]
    }
   ],
   "source": [
    "\n",
    "import tensorflow as tf\n",
    "# num_input 10000\n",
    "X = tf.placeholder(tf.dtypes.float32, [None, num_input])\n",
    "Y = tf.placeholder(tf.dtypes.float32, [None])\n",
    "\n",
    "\n",
    "# layer 1 (.. X,  2000) \n",
    "\n",
    "w1 = tf.Variable(tf.random_normal([n_hidden_1 , num_input], stddev=0.35,\n",
    "                                  dtype=tf.dtypes.float32 ),\n",
    "                        name=\"w1\" , dtype=tf.dtypes.float32 )\n",
    "\n",
    "b1 = tf.Variable(tf.zeros([n_hidden_1, 1]), name='b1', dtype=tf.dtypes.float32)\n",
    "\n",
    "y1 = tf.nn.relu(tf.add(tf.matmul(w1, tf.transpose(X)), b1), name='y1')\n",
    "\n",
    "# layer 2 (.. X,  100) \n",
    "\n",
    "w2 = tf.Variable(tf.random_normal([n_hidden_2 , n_hidden_1], stddev=0.35),\n",
    "                        name=\"w2\" , dtype=tf.dtypes.float32 )\n",
    "\n",
    "b2 = tf.Variable(tf.zeros([n_hidden_2, 1]), name='b2', dtype=tf.dtypes.float32)\n",
    "\n",
    "y2 = tf.nn.relu(tf.add(tf.matmul(w2, y1), b2), name='y2')\n",
    "\n",
    "\n",
    "\n",
    "# last lawer (.. X, 1) \n",
    "\n",
    "wf = tf.Variable(tf.random_normal([num_classes , n_hidden_2], stddev=0.35),\n",
    "                        name=\"wf\" , dtype=tf.dtypes.float32 )\n",
    "\n",
    "bf = tf.Variable(tf.zeros([num_classes, 1]), name='bf', dtype=tf.dtypes.float32)\n",
    "\n",
    "y_f  = tf.add(tf.matmul(wf, y2), bf, name=\"y_f\")\n",
    "\n",
    "\n",
    "\n",
    "#y1 = tf.matmul(w1, tf.transpose(X))\n",
    "\n",
    "print(w2)\n",
    "print(b2)\n",
    "print(y2)\n",
    "\n",
    "#Returns (x - y)(x - y) element-wise.\n",
    "loss = tf.reduce_mean(tf.squared_difference(y_f, Y))\n",
    "\n",
    "#optimizer = tf.train.GradientDescentOptimizer(learning_rate=0.0001).minimize(loss)\n",
    " \n",
    "optimizer = tf.train.AdamOptimizer(learning_rate=optimizerrate).minimize(loss)\n",
    "\n"
   ]
  },
  {
   "cell_type": "code",
   "execution_count": null,
   "metadata": {},
   "outputs": [],
   "source": []
  },
  {
   "cell_type": "code",
   "execution_count": 19,
   "metadata": {},
   "outputs": [
    {
     "name": "stdout",
     "output_type": "stream",
     "text": [
      "2000 X 200 0.01 300 1600 =\n",
      "Optimization Iteration:  0  erro  médio:  6934.969069866137\n",
      "Optimization Iteration:  100  erro  médio:  5.9641699669589725\n",
      "Optimization Iteration:  200  erro  médio:  4.885870721968807\n",
      "Optimization Iteration:  300  erro  médio:  4.22581286313628\n",
      "Optimization Iteration:  400  erro  médio:  3.4610442754321222\n",
      "Optimization Iteration:  500  erro  médio:  3.1654620807445077\n",
      "Optimization Iteration:  600  erro  médio:  2.728566742010664\n",
      "Optimization Iteration:  700  erro  médio:  2.6711253402818995\n",
      "Optimization Iteration:  800  erro  médio:  2.3005912974365037\n",
      "Optimization Iteration:  900  erro  médio:  2.21005047908802\n",
      "Optimization Iteration:  1000  erro  médio:  2.084035055872435\n",
      "Optimization Iteration:  1100  erro  médio:  1.9492844320174307\n",
      "Optimization Iteration:  1200  erro  médio:  1.8104077463694812\n",
      "Optimization Iteration:  1300  erro  médio:  1.7423880423176683\n",
      "Optimization Iteration:  1400  erro  médio:  1.8041799913344543\n",
      "Optimization Iteration:  1500  erro  médio:  1.7004395057037411\n",
      "f 11.565978\n"
     ]
    }
   ],
   "source": [
    "session = tf.Session()\n",
    "session.run(tf.global_variables_initializer())\n",
    "\n",
    "#2.2534682e+19\n",
    "#45962\n",
    "bachsize = 300\n",
    "ntraining = 1600\n",
    "print( n_hidden_1 ,'X', n_hidden_2, optimizerrate ,  bachsize , ntraining,  '=' ) \n",
    "\n",
    "for i in range(ntraining):\n",
    "\n",
    "    xbach, ybach  = getbachTrain(bachsize)\n",
    "    feed_dict_train = {X: xbach,   Y: ybach}\n",
    "    result = session.run(optimizer, feed_dict=feed_dict_train)\n",
    "    if i % 100  == 0:\n",
    "        resultloss = session.run(loss, feed_dict=feed_dict_train)\n",
    "        print('Optimization Iteration: ', i,  ' erro  médio: ', ((resultloss ** (1/2)))  )\n",
    "        \n",
    "        \n",
    "\n",
    "\n",
    "\n",
    "print('f', resultloss)\n",
    "\n"
   ]
  },
  {
   "cell_type": "raw",
   "metadata": {},
   "source": [
    " A Regreção obteve algum exito chegando ao um erro médio de 1.7 numa escala de 0-10. \n",
    " \n",
    "\n"
   ]
  },
  {
   "cell_type": "code",
   "execution_count": null,
   "metadata": {},
   "outputs": [],
   "source": []
  },
  {
   "cell_type": "code",
   "execution_count": null,
   "metadata": {},
   "outputs": [],
   "source": []
  }
 ],
 "metadata": {
  "kernelspec": {
   "display_name": "Python 3",
   "language": "python",
   "name": "python3"
  },
  "language_info": {
   "codemirror_mode": {
    "name": "ipython",
    "version": 3
   },
   "file_extension": ".py",
   "mimetype": "text/x-python",
   "name": "python",
   "nbconvert_exporter": "python",
   "pygments_lexer": "ipython3",
   "version": "3.6.7"
  }
 },
 "nbformat": 4,
 "nbformat_minor": 2
}
