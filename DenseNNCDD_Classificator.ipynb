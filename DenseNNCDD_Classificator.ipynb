{
 "cells": [
  {
   "cell_type": "markdown",
   "metadata": {},
   "source": [
    "# Este notebook utiliza uma dense neoron network to classify books \n",
    "\n",
    "\n",
    "Este notebook utiliza o data set produzido no notebook \"Phrase2VecPortuguese\" para classificar livros a partir de seus dados bibliogŕaficos. O dataset foi gerado a partir da coleta de dados de diverssas bibliotecas e contém como label o número CDD e a descrição biblografica previamente vetorizada. \n",
    "\n",
    "Utilizando tensorflow para cria um rede neural densa o modelo criado tem como objetivo a partir dos dados bibligraficos calcular o primeiro nível do CDD 000 - 90.  A pesar do método de regreção ninear talves não seja  o método pois o CDD não se trata de uma escala numérica (ver descrição abixo), sua utlização pode trazer bons resultados. \n",
    "\n",
    "\n",
    "\n",
    "\n",
    "## Classificação CDD \n",
    "\n",
    "A Classificação Decimal de Dewey (em inglês: Dewey Decimal Classification; DDC ou CDD) é um sistema de classificação documentária desenvolvido pelo bibliotecário americano Melvil Dewey (1851–1931).\n",
    "a Classificação CDD é amplamente utilizada em bibliotecas e seu proposito é reunir e organizar para para o docuemnto ser \"achavel\". \n",
    "https://pt.wikipedia.org/wiki/Classifica%C3%A7%C3%A3o_decimal_de_Dewey\n",
    "\n",
    "A CDD trabalha em de forma hierarquica, onde se pode aprofudar a classificação seguinto temas e sub temas, sendo o primeito nível apresenftado seguir: \n",
    "000 Generalidades\n",
    "100 Filosofia\n",
    "200 Religião\n",
    "300 Ciências sociais\n",
    "400 Línguas\n",
    "500 Ciências puras\n",
    "600 Ciências aplicadas\n",
    "700 Artes\n",
    "800 Literatura\n",
    "900 História e geografia\n",
    "\n",
    "Para realizar um software capaz de prever a CDD de um livro com base no titulo, autor e assunto. Por meio de Spiders nos juntamso em um dataset contendo a descrição dos livros e sua respectiva classificação nas base da dados da rede de bibliotecca de sâo paulo : http://bibliotecacircula.prefeitura.sp.gov.br/pesquisa/ ' na bibloteca Nacional   http://acervo.bn.br/sophia_web/index.html. \n",
    "\n"
   ]
  },
  {
   "cell_type": "markdown",
   "metadata": {},
   "source": [
    "# Primeiro passo - Carregar o dataset contendo cdd, descrição bibliografica veorizada\n"
   ]
  },
  {
   "cell_type": "code",
   "execution_count": 1,
   "metadata": {},
   "outputs": [
    {
     "name": "stdout",
     "output_type": "stream",
     "text": [
      "Dataset Size X vector size  45962 x  10000\n"
     ]
    }
   ],
   "source": [
    "import pandas as pd\n",
    "import tensorflow as tf\n",
    "\n",
    "pathclas = '/home/desenvolvimento/python/dataset/producao/classificacaioVector_v.csv'\n",
    "dataclas = pd.read_csv( pathclas);\n",
    "\n",
    "\n",
    "import numpy as np\n",
    "\n",
    "\n",
    "def getArrayFrom( strteste, fixedsize ):\n",
    "    original = np.fromstring(strteste, dtype=float, sep=' ')\n",
    "    size = len(original)\n",
    "    if size < fixedsize:\n",
    "        zeros= np.zeros(fixedsize- size) \n",
    "        original = np.concatenate((original, zeros), axis=0)\n",
    "        \n",
    "    elif size > fixedsize:\n",
    "        original = original[0:fixedsize]\n",
    "        \n",
    "        \n",
    "    return original    \n",
    "dataclas.shape  # DataFrame (45962, 2) | numpy.int64 str  \n",
    "matrixSize = 200 * 50 # 220 words with 50 dimentions  \n",
    "sizedataset= len(dataclas)\n",
    "\n",
    "print('Dataset Size X vector size ' , sizedataset, 'x ',  matrixSize)\n",
    "\n",
    "labels = np.zeros(sizedataset)\n",
    "wordvects = np.zeros((sizedataset, matrixSize), dtype=float) \n",
    "\n",
    "\n",
    "#for i in range(sizedataset):\n",
    "for i in range(sizedataset):    \n",
    "    label =dataclas.iloc[i][0]\n",
    "    wordvec =dataclas.iloc[i][1]\n",
    "    if label < 1000:\n",
    "        labels[i] =int(label /100)\n",
    "        vecttemp =  getArrayFrom(wordvec, matrixSize )\n",
    "        wordvects[i]= vecttemp\n",
    "        \n",
    "        \n",
    "def getbachTrain(size):\n",
    "    index = np.random.choice(sizedataset, size)\n",
    "    xbach = wordvec[index]\n",
    "    ybach = labels[index]\n",
    "    return xbach, ybach \n",
    "\n",
    "\n",
    "\n"
   ]
  },
  {
   "cell_type": "code",
   "execution_count": 2,
   "metadata": {},
   "outputs": [
    {
     "name": "stderr",
     "output_type": "stream",
     "text": [
      "/home/leo/.local/lib/python3.6/site-packages/sklearn/preprocessing/_encoders.py:415: FutureWarning: The handling of integer data will change in version 0.22. Currently, the categories are determined based on the range [0, max(values)], while in the future they will be determined based on the unique values.\n",
      "If you want the future behaviour and silence this warning, you can specify \"categories='auto'\".\n",
      "In case you used a LabelEncoder before this OneHotEncoder to convert the categories to integers, then you can now use the OneHotEncoder directly.\n",
      "  warnings.warn(msg, FutureWarning)\n"
     ]
    }
   ],
   "source": [
    "from sklearn.preprocessing import LabelEncoder\n",
    "from sklearn.preprocessing import OneHotEncoder\n",
    "from sklearn import preprocessing\n",
    "\n",
    "label_encoder = preprocessing.LabelEncoder()\n",
    "labels_1_hot = label_encoder.fit_transform(labels)\n",
    "# todos os labels em  1_hot 45962\n",
    "\n",
    "onehot_encoder = OneHotEncoder(sparse=False)\n",
    "labels_1_hot = labels_1_hot.reshape(len(labels_1_hot), 1)\n",
    "# (45962,) -> (45962,1)\n",
    "onehot_encoded = onehot_encoder.fit_transform(labels_1_hot)\n",
    "#(45962, 10)\n",
    "\n"
   ]
  },
  {
   "cell_type": "code",
   "execution_count": 3,
   "metadata": {},
   "outputs": [
    {
     "name": "stdout",
     "output_type": "stream",
     "text": [
      "(45962, 10)\n",
      "[0. 0. 0. 1. 0. 0. 0. 0. 0. 0.]\n",
      "[0. 0. 0. 0. 0. 0. 0. 0. 1. 0.]\n"
     ]
    }
   ],
   "source": [
    "print(onehot_encoded.shape)\n",
    "print(onehot_encoded[0])\n",
    "print(onehot_encoded[2])\n",
    "\n"
   ]
  },
  {
   "cell_type": "code",
   "execution_count": 4,
   "metadata": {},
   "outputs": [],
   "source": [
    "sizedataset = len(labels) \n",
    "indext = np.random.rand(sizedataset) < 0.9\n",
    "\n",
    "xtrain = wordvects[indext]\n",
    "ytrain = onehot_encoded[indext]\n",
    "\n",
    "xtest = wordvects[~indext]\n",
    "yteste = onehot_encoded[~indext]\n",
    "\n",
    "\n",
    "\n",
    "\n",
    "                   \n",
    "\n",
    "\n"
   ]
  },
  {
   "cell_type": "code",
   "execution_count": 5,
   "metadata": {},
   "outputs": [
    {
     "name": "stdout",
     "output_type": "stream",
     "text": [
      "[[0. 0. 0. 0. 0. 0. 0. 0. 0. 1.]\n",
      " [0. 0. 0. 1. 0. 0. 0. 0. 0. 0.]\n",
      " [0. 0. 0. 0. 0. 0. 0. 0. 1. 0.]\n",
      " [0. 0. 0. 0. 0. 0. 0. 0. 0. 1.]\n",
      " [0. 0. 1. 0. 0. 0. 0. 0. 0. 0.]]\n",
      "(5, 10000)\n",
      "(5, 10)\n"
     ]
    }
   ],
   "source": [
    "sizetrain = len(ytrain) \n",
    "sizetest = len(yteste) \n",
    "\n",
    "def getbachTrain(size):\n",
    "    index = np.random.choice(sizetrain, size)\n",
    "    xbach = xtrain[index]\n",
    "    ybach = ytrain[index]\n",
    "    return xbach, ybach \n",
    "\n",
    "\n",
    "def getbachTest(size):\n",
    "    index = np.random.choice(sizetest, size)\n",
    "    xbach = xtest[index]\n",
    "    ybach = yteste[index]\n",
    "    return xbach, ybach \n",
    "\n",
    "\n",
    "xbach, ybach = getbachTest(5)\n",
    "\n"
   ]
  },
  {
   "cell_type": "code",
   "execution_count": null,
   "metadata": {},
   "outputs": [],
   "source": []
  },
  {
   "cell_type": "markdown",
   "metadata": {},
   "source": [
    "\n"
   ]
  },
  {
   "cell_type": "code",
   "execution_count": 6,
   "metadata": {},
   "outputs": [
    {
     "name": "stdout",
     "output_type": "stream",
     "text": [
      "Distribuição das classificações do nosso dataset\n"
     ]
    },
    {
     "data": {
      "text/plain": [
       "<Figure size 640x480 with 1 Axes>"
      ]
     },
     "metadata": {},
     "output_type": "display_data"
    }
   ],
   "source": [
    "\n",
    "print('Distribuição das classificações do nosso dataset' )\n",
    "\n",
    "import matplotlib.pyplot as plt\n",
    "plt.hist(labels)\n",
    "plt.show()\n"
   ]
  },
  {
   "cell_type": "markdown",
   "metadata": {},
   "source": [
    "##Arquiterura da solução  \n",
    "    1. Input\n",
    "    2. Hiden layer com duas camadas (w1 e w2)\n",
    "    3. Camada fincal WF\n",
    "    4. Função custo distância vetorial  \n",
    "    \n",
    "\n",
    "\n",
    "<img src=\"https://res.cloudinary.com/dyd911kmh/image/upload/f_auto,q_auto:best/v1547672259/3_qwv5gr.png\">\n",
    "\n",
    "\n",
    "\n",
    "\n",
    "\n"
   ]
  },
  {
   "cell_type": "code",
   "execution_count": 7,
   "metadata": {},
   "outputs": [
    {
     "name": "stdout",
     "output_type": "stream",
     "text": [
      "45962\n"
     ]
    }
   ],
   "source": [
    "# meta parametros para nossa rede neural \n",
    "\n",
    "\n",
    "optimizerrate = 0.01\n",
    "\n",
    "\n",
    "# Network Parameters\n",
    "num_input = 10000 # -> 200 palavras X  50 dimensões por palavra \n",
    "matrixSize = 10000\n",
    "n_hidden_1 = 2000 # 2000 dimensão da primeira camada \n",
    "n_hidden_2 = 200 # 200 dimensão da primeira camada \n",
    "num_classes = 10 # as 10 classes principais do CDD 0-9\n",
    "print(sizedataset)\n",
    "ratelearning = 0.01\n",
    "stddev=0.1 # utilizado para inicializar os pesos das camadas de neuronio"
   ]
  },
  {
   "cell_type": "markdown",
   "metadata": {},
   "source": [
    "# Monta o modelo na rede neural do Tensor flow\n",
    "\n",
    "##  Vamos utilizar uma feed forward neural network\n",
    "\n",
    "\n",
    "    \n",
    "\n",
    "\n",
    "<img src=\"tensor2.png\"  width=\"500px\" height=\"200px\">\n",
    "\n",
    "\n",
    "\n",
    "\n",
    "\n"
   ]
  },
  {
   "cell_type": "code",
   "execution_count": 18,
   "metadata": {},
   "outputs": [],
   "source": [
    "def getTensorModel():\n",
    "\n",
    "    import tensorflow as tf\n",
    "    # num_input 10000  -> 200 palavras X  50 dimensões por palavra \n",
    "    X = tf.placeholder(tf.dtypes.float32, [None, num_input])\n",
    "    Y = tf.placeholder(tf.dtypes.float32, [None, num_classes]) #  (rows, columns).\n",
    "\n",
    "\n",
    "    #  Primeira camada \n",
    "\n",
    "    w1 = tf.Variable(tf.random_normal([n_hidden_1 , num_input], stddev=stddev,\n",
    "                                      dtype=tf.dtypes.float32 ),\n",
    "                            name=\"w1\" , dtype=tf.dtypes.float32 )\n",
    "    b1 = tf.Variable(tf.zeros([n_hidden_1, 1]), name='b1', dtype=tf.dtypes.float32)\n",
    "    y1 = tf.nn.relu(tf.add(tf.matmul(w1, tf.transpose(X)), b1), name='y1')\n",
    "\n",
    "    #  Segunda  camada \n",
    "    w2 = tf.Variable(tf.random_normal([n_hidden_2 , n_hidden_1], stddev=stddev),\n",
    "                            name=\"w2\" , dtype=tf.dtypes.float32 )\n",
    "    b2 = tf.Variable(tf.zeros([n_hidden_2, 1]), name='b2', dtype=tf.dtypes.float32)\n",
    "    y2 = tf.nn.relu(tf.add(tf.matmul(w2, y1), b2), name='y2')\n",
    "\n",
    "\n",
    "\n",
    "    #  Ultima  camada\n",
    "    wf = tf.Variable(tf.random_normal([num_classes , n_hidden_2], stddev=stddev),\n",
    "                            name=\"wf\" , dtype=tf.dtypes.float32 )\n",
    "\n",
    "    bf = tf.Variable(tf.zeros([num_classes, 1]), name='bf', dtype=tf.dtypes.float32)\n",
    "\n",
    "    y_3 = tf.nn.relu(tf.add(tf.matmul(wf, y2), bf, name=\"y_3\"))\n",
    "    media  =tf.reduce_sum(tf.transpose(y_3), 1) +1  #\n",
    "    \n",
    "    y_f= tf.divide(y_3, media) \n",
    "    \n",
    "    \n",
    "    #  camade de saida (out put layer)\n",
    "    \n",
    "    trueLabels=tf.argmax(Y, 1)\n",
    "    predictionsLabels=tf.argmax(tf.transpose(y_f), 1)\n",
    "    \n",
    "    cross_entropy = tf.nn.softmax_cross_entropy_with_logits_v2(logits= tf.transpose(y_f) ,\n",
    "                                                              labels= Y)\n",
    "           \n",
    "    cost = tf.reduce_mean(cross_entropy)\n",
    "    optimizer = tf.train.AdamOptimizer(learning_rate=ratelearning).minimize(cost)\n",
    "    my_acc = tf.reduce_mean(tf.cast(tf.equal(trueLabels, predictionsLabels), tf.float32))\n",
    "\n",
    "    \n",
    "    print('ratelearning', ratelearning) \n",
    "    \n",
    "    \n",
    "    return  X, Y, y_f ,  cross_entropy , cost , optimizer, y_3, media, trueLabels, predictionsLabels, my_acc\n",
    "    \n",
    "\n"
   ]
  },
  {
   "cell_type": "code",
   "execution_count": null,
   "metadata": {},
   "outputs": [],
   "source": []
  },
  {
   "cell_type": "code",
   "execution_count": 19,
   "metadata": {},
   "outputs": [
    {
     "name": "stdout",
     "output_type": "stream",
     "text": [
      "ratelearning 0.0008\n",
      "60\n",
      "2000 X 200 0.01 800 3000 =\n"
     ]
    }
   ],
   "source": [
    "ratelearning = 0.0008\n",
    "\n",
    "\n",
    "X, Y, y_f,  cross_entropy , cost , optimizer, y_3, media, trueLabels, predictionsLabels, my_acc = getTensorModel()    \n",
    "\n",
    "\n",
    "session = tf.Session()\n",
    "session.run(tf.global_variables_initializer())\n",
    "\n",
    "\n",
    "bachsize = 800\n",
    "ntraining = 3000 \n",
    "acuracy = 0.0\n",
    "measureRate = 50 # define os pontos p coleta de erro \n",
    "nTraningmeasure = int(ntraining/measureRate )  \n",
    "print(nTraningmeasure) \n",
    "\n",
    "\n",
    "trainCost = np.zeros(nTraningmeasure)\n",
    "trainErros = np.zeros(nTraningmeasure)\n",
    "interations = np.zeros(nTraningmeasure)\n",
    "\n",
    "    \n",
    "print( n_hidden_1 ,'X', n_hidden_2, optimizerrate ,  bachsize , ntraining,  '=' ) \n",
    "indicemen = 0\n",
    "\n",
    "for i in range(ntraining):\n",
    "    xbach, ybach  = getbachTrain(bachsize)\n",
    "    feed_dict_train = {X: xbach,   Y: ybach}\n",
    "\n",
    "    \n",
    "    result = session.run(optimizer, feed_dict=feed_dict_train)\n",
    "    \n",
    "    \n",
    "    if i % measureRate  == 0:\n",
    "        \n",
    "        rcost = session.run(cost, feed_dict=feed_dict_train)\n",
    "        acuracy = session.run(my_acc, feed_dict=feed_dict_train)\n",
    "        if indicemen < len(trainErros):\n",
    "            trainErros[indicemen] = acuracy\n",
    "            trainCost[indicemen] = rcost\n",
    "            interations[indicemen] = i\n",
    "            #print(i, 'cost ',rcost, 'predictions ', acuracy  )\n",
    "            \n",
    "        indicemen = indicemen + 1\n",
    "        \n"
   ]
  },
  {
   "cell_type": "code",
   "execution_count": null,
   "metadata": {},
   "outputs": [],
   "source": [
    "print()\n"
   ]
  },
  {
   "cell_type": "code",
   "execution_count": 11,
   "metadata": {},
   "outputs": [
    {
     "data": {
      "image/png": "[encoded data removed]",
      "text/plain": [
       "<Figure size 432x288 with 2 Axes>"
      ]
     },
     "metadata": {
      "needs_background": "light"
     },
     "output_type": "display_data"
    }
   ],
   "source": [
    "import numpy as np\n",
    "import matplotlib.pyplot as plt\n",
    "\n",
    "# Create some mock data\n",
    "t = np.arange(0.01, 10.0, 0.01)\n",
    "data1 = np.exp(t)\n",
    "data2 = np.sin(2 * np.pi * t)\n",
    "\n",
    "fig, ax1 = plt.subplots()\n",
    "\n",
    "color = 'tab:red'\n",
    "ax1.set_xlabel('Interation')\n",
    "ax1.set_ylabel('accuracy', color=color)\n",
    "ax1.plot(interations, trainErros, color=color)\n",
    "ax1.tick_params(axis='y', labelcolor=color)\n",
    "\n",
    "ax2 = ax1.twinx()  # instantiate a second axes that shares the same x-axis\n",
    "\n",
    "color = 'tab:blue'\n",
    "ax2.set_ylabel('Cost Function', color=color)  # we already handled the x-label with ax1\n",
    "ax2.plot(interations, trainCost, color=color)\n",
    "ax2.tick_params(axis='y', labelcolor=color)\n",
    "\n",
    "fig.tight_layout()  # otherwise the right y-label is slightly clipped\n",
    "plt.show()\n"
   ]
  },
  {
   "cell_type": "code",
   "execution_count": 17,
   "metadata": {},
   "outputs": [
    {
     "name": "stdout",
     "output_type": "stream",
     "text": [
      "Dataset Test accuracy   0.6820000171661377\n"
     ]
    }
   ],
   "source": [
    "\n",
    "xbach, ybach  = getbachTest(1000)\n",
    "feed_dict_train = {X: xbach,   Y: ybach}\n",
    "\n",
    "\n",
    "result = session.run(my_acc, feed_dict=feed_dict_train)\n",
    "print('Dataset Test accuracy  ', result  )\n"
   ]
  },
  {
   "cell_type": "markdown",
   "metadata": {},
   "source": [
    "## Resultado :\n",
    " Training set : 0.82625002 \n",
    " Test set : 0.6820000171661377\n",
    " \n",
    " \n",
    "**Vamos salvar para utiolizar a network treinada : \n",
    "\n",
    "\n",
    "\n",
    "\n"
   ]
  },
  {
   "cell_type": "code",
   "execution_count": 16,
   "metadata": {},
   "outputs": [
    {
     "name": "stdout",
     "output_type": "stream",
     "text": [
      "Model saved in path: DenseNNCDD_Classificator.ckpt\n"
     ]
    }
   ],
   "source": [
    "saver = tf.train.Saver()\n",
    "save_path = saver.save(session, \"DenseNNCDD_Classificator.ckpt\")\n",
    "print(\"Model saved in path: %s\" % save_path)\n",
    "\n",
    "\n"
   ]
  }
 ],
 "metadata": {
  "kernelspec": {
   "display_name": "Python 3",
   "language": "python",
   "name": "python3"
  },
  "language_info": {
   "codemirror_mode": {
    "name": "ipython",
    "version": 3
   },
   "file_extension": ".py",
   "mimetype": "text/x-python",
   "name": "python",
   "nbconvert_exporter": "python",
   "pygments_lexer": "ipython3",
   "version": "3.6.7"
  }
 },
 "nbformat": 4,
 "nbformat_minor": 2
}
