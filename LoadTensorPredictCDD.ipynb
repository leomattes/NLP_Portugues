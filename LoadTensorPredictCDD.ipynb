{
 "cells": [
  {
   "cell_type": "markdown",
   "metadata": {},
   "source": [
    "\n",
    "# Lendo dicionario salvo \n",
    "O arquivo dic.csv contem uma representação e word2vec já salva. contendo em cada linha uma plavra e sua representação vetoria em 50 dimensões\n",
    "\n"
   ]
  },
  {
   "cell_type": "code",
   "execution_count": 1,
   "metadata": {},
   "outputs": [
    {
     "name": "stdout",
     "output_type": "stream",
     "text": [
      "929603\n",
      "50\n"
     ]
    }
   ],
   "source": [
    "import Word2VecUtilPortuguese as wordvec\n",
    "\n",
    "path = 'dicionario_vec50.csv'\n",
    "wordVecDicionario = wordvec.Word2VecUtilPortuguese('dicionario_vec50.csv')\n",
    "\n"
   ]
  },
  {
   "cell_type": "code",
   "execution_count": 2,
   "metadata": {},
   "outputs": [
    {
     "name": "stdout",
     "output_type": "stream",
     "text": [
      "50\n",
      "200\n"
     ]
    }
   ],
   "source": [
    "# teste de dictionary wordtoVec\n",
    "vec = wordVecDicionario.wordtodense('casa')\n",
    "\n",
    "print(len(vec))\n",
    "\n",
    "texto = 'teste dois e meio'\n",
    "word_vectors = wordVecDicionario.textToDense(texto)\n",
    "\n",
    "print(len(word_vectors))\n",
    "\n"
   ]
  },
  {
   "cell_type": "code",
   "execution_count": 7,
   "metadata": {},
   "outputs": [
    {
     "name": "stdout",
     "output_type": "stream",
     "text": [
      "600\n"
     ]
    }
   ],
   "source": [
    "texto = 'teste dois e meio casa mulhe homem'  \n",
    "vec= wordVecDicionario.textToDenseFixesize(texto, 600)\n",
    "print(vec.size)\n"
   ]
  },
  {
   "cell_type": "code",
   "execution_count": 9,
   "metadata": {},
   "outputs": [
    {
     "name": "stdout",
     "output_type": "stream",
     "text": [
      "WARNING:tensorflow:From /home/leo/.local/lib/python3.6/site-packages/tensorflow/python/framework/op_def_library.py:263: colocate_with (from tensorflow.python.framework.ops) is deprecated and will be removed in a future version.\n",
      "Instructions for updating:\n",
      "Colocations handled automatically by placer.\n",
      "WARNING:tensorflow:From /home/leo/.local/lib/python3.6/site-packages/tensorflow/python/ops/math_ops.py:3066: to_int32 (from tensorflow.python.ops.math_ops) is deprecated and will be removed in a future version.\n",
      "Instructions for updating:\n",
      "Use tf.cast instead.\n",
      "ratelearning 0.01\n"
     ]
    }
   ],
   "source": [
    "# meta parametros para nossa rede neural \n",
    "\n",
    "\n",
    "optimizerrate = 0.01\n",
    "\n",
    "\n",
    "# Network Parameters\n",
    "num_input = 10000 # -> 200 palavras X  50 dimensões por palavra \n",
    "matrixSize = 200 * 50 # 220 words with 50 dimentions  \n",
    "matrixSize = 10000\n",
    "n_hidden_1 = 2000 # 2000 dimensão da primeira camada \n",
    "n_hidden_2 = 200 # 200 dimensão da primeira camada \n",
    "num_classes = 10 # as 10 classes principais do CDD 0-9\n",
    "\n",
    "ratelearning = 0.01\n",
    "stddev=0.1 # utilizado para inicializar os pesos das camadas de neuronio\n",
    "\n",
    "def getTensorModel():\n",
    "\n",
    "    import tensorflow as tf\n",
    "    # num_input 10000  -> 200 palavras X  50 dimensões por palavra \n",
    "    X = tf.placeholder(tf.dtypes.float32, [None, num_input])\n",
    "    Y = tf.placeholder(tf.dtypes.float32, [None, num_classes]) #  (rows, columns).\n",
    "\n",
    "\n",
    "    #  Primeira camada \n",
    "\n",
    "    w1 = tf.Variable(tf.random_normal([n_hidden_1 , num_input], stddev=stddev,\n",
    "                                      dtype=tf.dtypes.float32 ),\n",
    "                            name=\"w1\" , dtype=tf.dtypes.float32 )\n",
    "    b1 = tf.Variable(tf.zeros([n_hidden_1, 1]), name='b1', dtype=tf.dtypes.float32)\n",
    "    y1 = tf.nn.relu(tf.add(tf.matmul(w1, tf.transpose(X)), b1), name='y1')\n",
    "\n",
    "    #  Segunda  camada \n",
    "    w2 = tf.Variable(tf.random_normal([n_hidden_2 , n_hidden_1], stddev=stddev),\n",
    "                            name=\"w2\" , dtype=tf.dtypes.float32 )\n",
    "    b2 = tf.Variable(tf.zeros([n_hidden_2, 1]), name='b2', dtype=tf.dtypes.float32)\n",
    "    y2 = tf.nn.relu(tf.add(tf.matmul(w2, y1), b2), name='y2')\n",
    "\n",
    "\n",
    "\n",
    "    #  Ultima  camada\n",
    "    wf = tf.Variable(tf.random_normal([num_classes , n_hidden_2], stddev=stddev),\n",
    "                            name=\"wf\" , dtype=tf.dtypes.float32 )\n",
    "\n",
    "    bf = tf.Variable(tf.zeros([num_classes, 1]), name='bf', dtype=tf.dtypes.float32)\n",
    "\n",
    "    y_3 = tf.nn.relu(tf.add(tf.matmul(wf, y2), bf, name=\"y_3\"))\n",
    "    media  =tf.reduce_sum(tf.transpose(y_3), 1) +1  #\n",
    "    \n",
    "    y_f= tf.divide(y_3, media) \n",
    "    \n",
    "    \n",
    "    #  camade de saida (out put layer)\n",
    "    \n",
    "    trueLabels=tf.argmax(Y, 1)\n",
    "    predictionsLabels=tf.argmax(tf.transpose(y_f), 1)\n",
    "    \n",
    "    cross_entropy = tf.nn.softmax_cross_entropy_with_logits_v2(logits= tf.transpose(y_f) ,\n",
    "                                                              labels= Y)\n",
    "           \n",
    "    cost = tf.reduce_mean(cross_entropy)\n",
    "    optimizer = tf.train.AdamOptimizer(learning_rate=ratelearning).minimize(cost)\n",
    "    my_acc = tf.reduce_mean(tf.cast(tf.equal(trueLabels, predictionsLabels), tf.float32))\n",
    "\n",
    "    \n",
    "    print('ratelearning', ratelearning) \n",
    "    \n",
    "    \n",
    "    return  X, Y, y_f ,  cross_entropy , cost , optimizer, y_3, media, trueLabels, predictionsLabels, my_acc\n",
    "    \n",
    "X, Y, y_f,  cross_entropy , cost , optimizer, y_3, media, trueLabels, predictionsLabels, my_acc = getTensorModel()    "
   ]
  },
  {
   "cell_type": "code",
   "execution_count": 10,
   "metadata": {},
   "outputs": [
    {
     "name": "stdout",
     "output_type": "stream",
     "text": [
      "WARNING:tensorflow:From /home/leo/.local/lib/python3.6/site-packages/tensorflow/python/training/saver.py:1266: checkpoint_exists (from tensorflow.python.training.checkpoint_management) is deprecated and will be removed in a future version.\n",
      "Instructions for updating:\n",
      "Use standard file APIs to check for files with this prefix.\n",
      "INFO:tensorflow:Restoring parameters from DenseNNCDD_Classificator.ckpt\n"
     ]
    }
   ],
   "source": [
    "import tensorflow as tf\n",
    "session = tf.Session()\n",
    "session.run(tf.global_variables_initializer())\n",
    "\n",
    "saver = tf.train.Saver()\n",
    "saver.restore(session, \"DenseNNCDD_Classificator.ckpt\")\n",
    "\n",
    "\n",
    "\n",
    "\n",
    "\n",
    "\n",
    "\n",
    "\n",
    "\n"
   ]
  },
  {
   "cell_type": "code",
   "execution_count": 22,
   "metadata": {},
   "outputs": [],
   "source": [
    "livros = ['O PODER DO HÁBITO DWECK, CAROL Carol S. Dweck, ph.D., professora de psicologia na Universidade Stanford e especialista internacional em sucesso e motivação, desenvolveu, ao longo de décadas de pesquisa, um conceito fundamental: a atitude mental com que encaramos a vida, que ela chama de “mindset”, é crucial para o sucesso. Dweck revela de forma brilhante como o sucesso pode ser alcançado pela maneira como lidamos com nossos objetivos. O mindset não é um mero traço de personalidade, é a explicação de por que somos otimistas ou pessimistas, bem-sucedidos ou não. Ele define nossa relação com o trabalho e com as pessoas e a maneira como educamos nossos filhos. É um fator decisivo para que todo o nosso potencial seja explorado. ',\n",
    "         'CIDADE DAS GAROTAS  GILBERT, ELIZABETH Da autora de Comer, rezar, amar, um novo e delicioso romance sobre glamour, sexo e aventura na Nova York dos anos 1940. Em Cidade das garotas, uma jovem mulher descobre que não é preciso ser uma “boa garota” para ser uma boa pessoa.   Elizabeth Gilbert retorna para o texto ficcional com uma inesquecível história de amor na Nova York dos anos 1940. Narrado a partir da perspectiva de uma mulher que olha para o passado com felicidade, Cidade das garotas explora a ideia de sexualidade, bem como as idiossincrasias do amor.  Em 1940, Vivian Morris tem 19 anos e acabou de ser expulsa da faculdade. Seus pais, ricos e influentes, a enviam para Manhattan, onde mora sua tia Peg, dona de um teatro chamado Lily Playhouse. No teatro, Vivian passa a se relacionar com um grupo de personagens pouco convencionais, mas extremamente carismáticos: grandes atrizes, galãs, escritoras e produtores.    Mas quando Vivian comete um erro profissional que resulta em um escândalo, ela passa a ver aquele mundo com outros olhos. No fim, é essa jornada que a ajudará a descobrir o que ela realmente deseja — e qual tipo de vida ela precisa levar para que isso aconteça. É nessa jornada que Vivian também encontra o amor de sua vida, uma pessoa que se destaca de todo o restante.  “A certa altura da vida de uma mulher”, escreve Vivian, “ela se cansa de sentir vergonha o tempo inteiro. Depois disso, ela está livre para se tornar quem é de verdade.”',\n",
    "         'HISTÓRIA DA BRUXARIA FEITICEIRAS, HEREGES E PAGÃS  ALEXANDER, BROOKS Da feitiçaria antiga aos recentes movimentos neopagãos, a história da bruxaria está nas entrelinhas da própria História. As bruxas são um estereótipo duradouro e mutável na mentalidade coletiva. Sua tradição, repleta de perseguições e reviravoltas, tem uma trajetória silenciosa, mas não por isso menos verdadeira e devastadora.  História da bruxaria é o mais abrangente estudo sobre o tema, e o discute de forma lúcida e estimulante, sob diferentes perspectivas. Os autores examinam a gênese, o auge e o declínio da caça às bruxas e revelam como a bruxaria sobreviveu, ressurgiu, se reciclou e atua na sociedade contemporânea.',   \n",
    "         'LUGAR DE FALA  RIBEIRO, DJAMILA A intenção da coleção Feminismos Plurais é trazer para o grande público questões importantes referentes aos mais diversos feminismos de forma didática e acessível. Com o objetivo de desmistificar o conceito de lugar de fala, Djamila Ribeiro contextualiza o indivíduo tido como universal numa sociedade cisheteropatriarcal eurocentrada, para que seja possível identificarmos as diversas vivências específicas e, assim, diferenciar os discursos de acordo com a posição social de onde se fala.',\n",
    "         'AMIGA URSA  UMA HISTÓRIA TRISTE, MAS COM FINAL FELIZ  LEE, RITA Rita Lee para crianças Em seu novo livro, Rita conta a história da ursa Rowena, que se chamava Marsha e veio parar no Brasil vítima de tráfico de animais. Durante anos, ela foi maltratada em circos e zoológicos até ser resgatada e ir para o Rancho dos Gnomos, onde vive seu tão aguardado final feliz. Pensando que as crianças podem mudar o planeta, Rita é a vovó Ritinha, umas das personagens da obra e grande protetora dos animais. De maneira leve e divertida, ela aborda temas como geografia, biologia, a importância da preservação do meio ambiente - e, é claro, o respeito aos animais! Além disso, o livro tem espaços para as crianças escreverem e desenharem, interagindo com a história',\n",
    "         'CAPITÃO CUECA E A GRANDE E DESAGRADÁVEL BATALHA DO MENINO BIÔNICO MELECA SECA - EM CORES!   PILKEY, DAV Os amigos Jorge e Haroldo precisam enfrentar o supervilão mais gosmento e melequento de toda a história dos vilões. E para isso eles vão contar com a ajuda do super-herói cuequento Capitão Cueca!  Jorge e Haroldo voltaram a aprontar, e a última brincadeira da dupla deixou Melvin Sneedly, o gênio da escola, tão irritado que ele decidiu se vingar! Mas, em um piscar de olhos — e um espirro rápido e melequento —, o garoto esnobe e mal-humorado se transformou no Menino Biônico Meleca Seca, pronto para espalhar a maior quantidade possível de muco de nariz por aí. Será que o Capitão Cueca vai conseguir dar um jeito nessa confusão gosmenta?'\n",
    "        ]\n",
    "\n"
   ]
  },
  {
   "cell_type": "code",
   "execution_count": 25,
   "metadata": {},
   "outputs": [
    {
     "name": "stdout",
     "output_type": "stream",
     "text": [
      "O PODER DO  ->  400\n",
      "CIDADE DAS  ->  500\n",
      "HISTÓRIA D  ->  500\n",
      "LUGAR DE F  ->  600\n",
      "AMIGA URSA  ->  800\n",
      "CAPITÃO CU  ->  800\n"
     ]
    }
   ],
   "source": [
    "\n",
    "\n",
    "for livro in livros:\n",
    "    \n",
    "    vec= wordVecDicionario.textToDenseFixesize(livro, 10000)\n",
    "    vec = vec.reshape((1,10000))\n",
    "    feed_dict_train = {X: vec}\n",
    "\n",
    "    result = session.run(predictionsLabels, feed_dict=feed_dict_train)\n",
    "    print(livro[0:10] , ' -> ',  result * 100  )\n",
    " "
   ]
  },
  {
   "cell_type": "markdown",
   "metadata": {},
   "source": [
    "O sistema é composto de dez classes principais:\n",
    "\n",
    "000 Generalidades\n",
    "100 Filosofia\n",
    "200 Religião\n",
    "300 Ciências sociais\n",
    "400 Línguas\n",
    "500 Ciências puras\n",
    "600 Ciências aplicadas\n",
    "700 Artes\n",
    "800 Literatura\n",
    "900 História e geografia\n",
    "\n"
   ]
  }
 ],
 "metadata": {
  "kernelspec": {
   "display_name": "Python 3",
   "language": "python",
   "name": "python3"
  },
  "language_info": {
   "codemirror_mode": {
    "name": "ipython",
    "version": 3
   },
   "file_extension": ".py",
   "mimetype": "text/x-python",
   "name": "python",
   "nbconvert_exporter": "python",
   "pygments_lexer": "ipython3",
   "version": "3.6.7"
  }
 },
 "nbformat": 4,
 "nbformat_minor": 2
}
